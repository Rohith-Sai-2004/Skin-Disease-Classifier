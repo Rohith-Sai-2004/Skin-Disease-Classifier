{
 "cells": [
  {
   "cell_type": "code",
   "execution_count": 4,
   "id": "ff832261",
   "metadata": {},
   "outputs": [
    {
     "data": {
      "text/html": [
       "<div>\n",
       "<style scoped>\n",
       "    .dataframe tbody tr th:only-of-type {\n",
       "        vertical-align: middle;\n",
       "    }\n",
       "\n",
       "    .dataframe tbody tr th {\n",
       "        vertical-align: top;\n",
       "    }\n",
       "\n",
       "    .dataframe thead th {\n",
       "        text-align: right;\n",
       "    }\n",
       "</style>\n",
       "<table border=\"1\" class=\"dataframe\">\n",
       "  <thead>\n",
       "    <tr style=\"text-align: right;\">\n",
       "      <th></th>\n",
       "      <th>disease</th>\n",
       "      <th>symptoms</th>\n",
       "      <th>medicines</th>\n",
       "      <th>precautions</th>\n",
       "      <th>image_paths</th>\n",
       "    </tr>\n",
       "  </thead>\n",
       "  <tbody>\n",
       "    <tr>\n",
       "      <th>0</th>\n",
       "      <td>Acne</td>\n",
       "      <td>Red pimples;Oily skin;Blackheads or whiteheads</td>\n",
       "      <td>Benzoyl Peroxide;Salicylic Acid;Clindamycin;Tr...</td>\n",
       "      <td>Wash face regularly;Avoid oily products;Don’t ...</td>\n",
       "      <td>images/acne/acne_1.jpeg;images/acne/acne_2.jpeg</td>\n",
       "    </tr>\n",
       "    <tr>\n",
       "      <th>1</th>\n",
       "      <td>Eczema</td>\n",
       "      <td>Itchy skin;Dry patches;Redness</td>\n",
       "      <td>Hydrocortisone;Tacrolimus;Antihistamines;Moist...</td>\n",
       "      <td>Moisturize frequently;Avoid triggers;Use gentl...</td>\n",
       "      <td>images/eczema/eczema_1.jpeg;images/eczema/ecze...</td>\n",
       "    </tr>\n",
       "    <tr>\n",
       "      <th>2</th>\n",
       "      <td>Cold Sores</td>\n",
       "      <td>Fluid-filled blisters;Burning sensation;Crusting</td>\n",
       "      <td>Acyclovir;Valacyclovir;Pain relievers;Cold com...</td>\n",
       "      <td>Avoid kissing;Don’t share personal items;Use s...</td>\n",
       "      <td>images/cold_sores/cold_sores_1.jpeg;images/col...</td>\n",
       "    </tr>\n",
       "    <tr>\n",
       "      <th>3</th>\n",
       "      <td>Hives</td>\n",
       "      <td>Itchy welts;Red bumps;Swelling</td>\n",
       "      <td>Antihistamines;Epinephrine;Steroid creams;Cool...</td>\n",
       "      <td>Avoid allergens;Wear loose clothing;Keep cool</td>\n",
       "      <td>images/hives/hives_1.jpeg;images/hives/hives_2...</td>\n",
       "    </tr>\n",
       "    <tr>\n",
       "      <th>4</th>\n",
       "      <td>Psoriasis</td>\n",
       "      <td>Red patches;Silvery scales;Itching</td>\n",
       "      <td>Corticosteroids;Vitamin D analogs;Salicylic ac...</td>\n",
       "      <td>Keep skin moist;Avoid triggers;Use prescribed ...</td>\n",
       "      <td>images/psoriasis/psoriasis_1.jpeg;images/psori...</td>\n",
       "    </tr>\n",
       "  </tbody>\n",
       "</table>\n",
       "</div>"
      ],
      "text/plain": [
       "      disease                                          symptoms  \\\n",
       "0        Acne    Red pimples;Oily skin;Blackheads or whiteheads   \n",
       "1      Eczema                    Itchy skin;Dry patches;Redness   \n",
       "2  Cold Sores  Fluid-filled blisters;Burning sensation;Crusting   \n",
       "3       Hives                    Itchy welts;Red bumps;Swelling   \n",
       "4   Psoriasis                Red patches;Silvery scales;Itching   \n",
       "\n",
       "                                           medicines  \\\n",
       "0  Benzoyl Peroxide;Salicylic Acid;Clindamycin;Tr...   \n",
       "1  Hydrocortisone;Tacrolimus;Antihistamines;Moist...   \n",
       "2  Acyclovir;Valacyclovir;Pain relievers;Cold com...   \n",
       "3  Antihistamines;Epinephrine;Steroid creams;Cool...   \n",
       "4  Corticosteroids;Vitamin D analogs;Salicylic ac...   \n",
       "\n",
       "                                         precautions  \\\n",
       "0  Wash face regularly;Avoid oily products;Don’t ...   \n",
       "1  Moisturize frequently;Avoid triggers;Use gentl...   \n",
       "2  Avoid kissing;Don’t share personal items;Use s...   \n",
       "3      Avoid allergens;Wear loose clothing;Keep cool   \n",
       "4  Keep skin moist;Avoid triggers;Use prescribed ...   \n",
       "\n",
       "                                         image_paths  \n",
       "0    images/acne/acne_1.jpeg;images/acne/acne_2.jpeg  \n",
       "1  images/eczema/eczema_1.jpeg;images/eczema/ecze...  \n",
       "2  images/cold_sores/cold_sores_1.jpeg;images/col...  \n",
       "3  images/hives/hives_1.jpeg;images/hives/hives_2...  \n",
       "4  images/psoriasis/psoriasis_1.jpeg;images/psori...  "
      ]
     },
     "execution_count": 4,
     "metadata": {},
     "output_type": "execute_result"
    }
   ],
   "source": [
    "import pandas as pd\n",
    "df = pd.read_csv(\"skin_disease.csv\")\n",
    "df.head()"
   ]
  },
  {
   "cell_type": "code",
   "execution_count": 3,
   "id": "ec76a362",
   "metadata": {},
   "outputs": [
    {
     "name": "stdout",
     "output_type": "stream",
     "text": [
      "Image formats found:\n",
      ".jpeg: 50 files\n"
     ]
    }
   ],
   "source": [
    "import os\n",
    "from collections import Counter\n",
    "\n",
    "# Set the path to your image directory\n",
    "folder_path = \"images\"  # or \"images/acne\" if you want a specific folder\n",
    "\n",
    "# Initialize a counter for file extensions\n",
    "extensions = Counter()\n",
    "\n",
    "# Walk through the folder and count image types\n",
    "for root, dirs, files in os.walk(folder_path):\n",
    "    for file in files:\n",
    "        ext = os.path.splitext(file)[1].lower()\n",
    "        if ext:  # skip files with no extension\n",
    "            extensions[ext] += 1\n",
    "\n",
    "# Print the results\n",
    "print(\"Image formats found:\")\n",
    "for ext, count in extensions.items():\n",
    "    print(f\"{ext}: {count} files\")\n"
   ]
  },
  {
   "cell_type": "code",
   "execution_count": 2,
   "id": "84ec7007",
   "metadata": {},
   "outputs": [
    {
     "name": "stdout",
     "output_type": "stream",
     "text": [
      "Converted: celleulitis_1.jpg -> celleulitis_1.jpeg\n",
      "Converted: celleulitis_3.png -> celleulitis_3.jpeg\n",
      "Converted: hives_2.jpg -> hives_2.jpeg\n"
     ]
    }
   ],
   "source": [
    "import os\n",
    "from PIL import Image\n",
    "\n",
    "# Set your base images folder\n",
    "base_folder = \"images\"\n",
    "\n",
    "# Loop through all files in the folder and its subfolders\n",
    "for root, dirs, files in os.walk(base_folder):\n",
    "    for file in files:\n",
    "        filepath = os.path.join(root, file)\n",
    "        name, ext = os.path.splitext(file)\n",
    "        ext = ext.lower()\n",
    "\n",
    "        # Skip already jpeg images\n",
    "        if ext in [\".png\", \".jpg\", \".webp\", \".bmp\"] and not file.endswith(\".jpeg\"):\n",
    "            try:\n",
    "                with Image.open(filepath) as img:\n",
    "                    # Convert to RGB (to avoid alpha channel issues)\n",
    "                    img = img.convert(\"RGB\")\n",
    "                    # New filename with .jpeg extension\n",
    "                    new_filename = os.path.join(root, name + \".jpeg\")\n",
    "                    # Save in JPEG format\n",
    "                    img.save(new_filename, \"JPEG\")\n",
    "                    print(f\"Converted: {file} -> {name}.jpeg\")\n",
    "                    \n",
    "                    # Optional: remove original file\n",
    "                    os.remove(filepath)\n",
    "            except Exception as e:\n",
    "                print(f\"Failed to convert {file}: {e}\")\n"
   ]
  },
  {
   "cell_type": "code",
   "execution_count": 5,
   "id": "76032e59",
   "metadata": {},
   "outputs": [],
   "source": [
    "from PIL import Image\n",
    "import os\n",
    "\n",
    "def is_valid_image(path):\n",
    "    try:\n",
    "        with Image.open(path) as img:\n",
    "            img.verify()  # Verify the file is an image\n",
    "        return True\n",
    "    except:\n",
    "        return False\n"
   ]
  },
  {
   "cell_type": "code",
   "execution_count": 6,
   "id": "bfafa5e9",
   "metadata": {},
   "outputs": [],
   "source": [
    "import os\n",
    "from PIL import Image\n",
    "\n",
    "def is_valid_image(path):\n",
    "    try:\n",
    "        with Image.open(path) as img:\n",
    "            img.verify()  # Validate file is a proper image\n",
    "        return True\n",
    "    except:\n",
    "        return False\n",
    "\n",
    "def get_valid_images(root_folder, valid_exts={\".jpg\", \".jpeg\", \".png\"}):\n",
    "    valid_images = []\n",
    "    for dirpath, _, filenames in os.walk(root_folder):\n",
    "        for file in filenames:\n",
    "            ext = os.path.splitext(file)[1].lower()\n",
    "            full_path = os.path.join(dirpath, file)\n",
    "            if ext in valid_exts and is_valid_image(full_path):\n",
    "                valid_images.append(full_path)\n",
    "    return valid_images\n"
   ]
  },
  {
   "cell_type": "code",
   "execution_count": 8,
   "id": "cbfd58b1",
   "metadata": {},
   "outputs": [
    {
     "name": "stderr",
     "output_type": "stream",
     "text": [
      "2025-05-10 15:22:13.160 WARNING streamlit.runtime.scriptrunner_utils.script_run_context: Thread 'MainThread': missing ScriptRunContext! This warning can be ignored when running in bare mode.\n"
     ]
    },
    {
     "ename": "RuntimeError",
     "evalue": "Runtime hasn't been created!",
     "output_type": "error",
     "traceback": [
      "\u001b[31m---------------------------------------------------------------------------\u001b[39m",
      "\u001b[31mFileNotFoundError\u001b[39m                         Traceback (most recent call last)",
      "\u001b[36mFile \u001b[39m\u001b[32m~\\AppData\\Roaming\\Python\\Python312\\site-packages\\streamlit\\elements\\lib\\image_utils.py:286\u001b[39m, in \u001b[36mimage_to_url\u001b[39m\u001b[34m(image, width, clamp, channels, output_format, image_id)\u001b[39m\n\u001b[32m    285\u001b[39m \u001b[38;5;28;01mtry\u001b[39;00m:\n\u001b[32m--> \u001b[39m\u001b[32m286\u001b[39m     \u001b[38;5;28;01mwith\u001b[39;00m \u001b[38;5;28;43mopen\u001b[39;49m\u001b[43m(\u001b[49m\u001b[43mimage\u001b[49m\u001b[43m,\u001b[49m\u001b[43m \u001b[49m\u001b[33;43m\"\u001b[39;49m\u001b[33;43mrb\u001b[39;49m\u001b[33;43m\"\u001b[39;49m\u001b[43m)\u001b[49m \u001b[38;5;28;01mas\u001b[39;00m f:\n\u001b[32m    287\u001b[39m         image_data = f.read()\n",
      "\u001b[31mFileNotFoundError\u001b[39m: [Errno 2] No such file or directory: 'images\\\\chicken_pox\\\\chicken_pox_1.jpeg'",
      "\nDuring handling of the above exception, another exception occurred:\n",
      "\u001b[31mRuntimeError\u001b[39m                              Traceback (most recent call last)",
      "\u001b[36mCell\u001b[39m\u001b[36m \u001b[39m\u001b[32mIn[8]\u001b[39m\u001b[32m, line 4\u001b[39m\n\u001b[32m      2\u001b[39m \u001b[38;5;28;01mimport\u001b[39;00m\u001b[38;5;250m \u001b[39m\u001b[34;01mstreamlit\u001b[39;00m\u001b[38;5;250m \u001b[39m\u001b[38;5;28;01mas\u001b[39;00m\u001b[38;5;250m \u001b[39m\u001b[34;01mst\u001b[39;00m\n\u001b[32m      3\u001b[39m full_path = os.path.join(\u001b[33m\"\u001b[39m\u001b[33mimages\u001b[39m\u001b[33m\"\u001b[39m, \u001b[33m\"\u001b[39m\u001b[33mchicken_pox\u001b[39m\u001b[33m\"\u001b[39m, \u001b[33m\"\u001b[39m\u001b[33mchicken_pox_1.jpeg\u001b[39m\u001b[33m\"\u001b[39m)\n\u001b[32m----> \u001b[39m\u001b[32m4\u001b[39m \u001b[43mst\u001b[49m\u001b[43m.\u001b[49m\u001b[43mimage\u001b[49m\u001b[43m(\u001b[49m\u001b[43mfull_path\u001b[49m\u001b[43m,\u001b[49m\u001b[43m \u001b[49m\u001b[43mwidth\u001b[49m\u001b[43m=\u001b[49m\u001b[32;43m150\u001b[39;49m\u001b[43m)\u001b[49m\n",
      "\u001b[36mFile \u001b[39m\u001b[32m~\\AppData\\Roaming\\Python\\Python312\\site-packages\\streamlit\\runtime\\metrics_util.py:444\u001b[39m, in \u001b[36mgather_metrics.<locals>.wrapped_func\u001b[39m\u001b[34m(*args, **kwargs)\u001b[39m\n\u001b[32m    442\u001b[39m         _LOGGER.debug(\u001b[33m\"\u001b[39m\u001b[33mFailed to collect command telemetry\u001b[39m\u001b[33m\"\u001b[39m, exc_info=ex)\n\u001b[32m    443\u001b[39m \u001b[38;5;28;01mtry\u001b[39;00m:\n\u001b[32m--> \u001b[39m\u001b[32m444\u001b[39m     result = \u001b[43mnon_optional_func\u001b[49m\u001b[43m(\u001b[49m\u001b[43m*\u001b[49m\u001b[43margs\u001b[49m\u001b[43m,\u001b[49m\u001b[43m \u001b[49m\u001b[43m*\u001b[49m\u001b[43m*\u001b[49m\u001b[43mkwargs\u001b[49m\u001b[43m)\u001b[49m\n\u001b[32m    445\u001b[39m \u001b[38;5;28;01mexcept\u001b[39;00m RerunException \u001b[38;5;28;01mas\u001b[39;00m ex:\n\u001b[32m    446\u001b[39m     \u001b[38;5;66;03m# Duplicated from below, because static analysis tools get confused\u001b[39;00m\n\u001b[32m    447\u001b[39m     \u001b[38;5;66;03m# by deferring the rethrow.\u001b[39;00m\n\u001b[32m    448\u001b[39m     \u001b[38;5;28;01mif\u001b[39;00m tracking_activated \u001b[38;5;129;01mand\u001b[39;00m command_telemetry:\n",
      "\u001b[36mFile \u001b[39m\u001b[32m~\\AppData\\Roaming\\Python\\Python312\\site-packages\\streamlit\\elements\\image.py:181\u001b[39m, in \u001b[36mImageMixin.image\u001b[39m\u001b[34m(self, image, caption, width, use_column_width, clamp, channels, output_format, use_container_width)\u001b[39m\n\u001b[32m    178\u001b[39m         image_width = WidthBehavior.MIN_IMAGE_OR_CONTAINER\n\u001b[32m    180\u001b[39m image_list_proto = ImageListProto()\n\u001b[32m--> \u001b[39m\u001b[32m181\u001b[39m \u001b[43mmarshall_images\u001b[49m\u001b[43m(\u001b[49m\n\u001b[32m    182\u001b[39m \u001b[43m    \u001b[49m\u001b[38;5;28;43mself\u001b[39;49m\u001b[43m.\u001b[49m\u001b[43mdg\u001b[49m\u001b[43m.\u001b[49m\u001b[43m_get_delta_path_str\u001b[49m\u001b[43m(\u001b[49m\u001b[43m)\u001b[49m\u001b[43m,\u001b[49m\n\u001b[32m    183\u001b[39m \u001b[43m    \u001b[49m\u001b[43mimage\u001b[49m\u001b[43m,\u001b[49m\n\u001b[32m    184\u001b[39m \u001b[43m    \u001b[49m\u001b[43mcaption\u001b[49m\u001b[43m,\u001b[49m\n\u001b[32m    185\u001b[39m \u001b[43m    \u001b[49m\u001b[43mimage_width\u001b[49m\u001b[43m,\u001b[49m\n\u001b[32m    186\u001b[39m \u001b[43m    \u001b[49m\u001b[43mimage_list_proto\u001b[49m\u001b[43m,\u001b[49m\n\u001b[32m    187\u001b[39m \u001b[43m    \u001b[49m\u001b[43mclamp\u001b[49m\u001b[43m,\u001b[49m\n\u001b[32m    188\u001b[39m \u001b[43m    \u001b[49m\u001b[43mchannels\u001b[49m\u001b[43m,\u001b[49m\n\u001b[32m    189\u001b[39m \u001b[43m    \u001b[49m\u001b[43moutput_format\u001b[49m\u001b[43m,\u001b[49m\n\u001b[32m    190\u001b[39m \u001b[43m\u001b[49m\u001b[43m)\u001b[49m\n\u001b[32m    191\u001b[39m \u001b[38;5;28;01mreturn\u001b[39;00m \u001b[38;5;28mself\u001b[39m.dg._enqueue(\u001b[33m\"\u001b[39m\u001b[33mimgs\u001b[39m\u001b[33m\"\u001b[39m, image_list_proto)\n",
      "\u001b[36mFile \u001b[39m\u001b[32m~\\AppData\\Roaming\\Python\\Python312\\site-packages\\streamlit\\elements\\lib\\image_utils.py:442\u001b[39m, in \u001b[36mmarshall_images\u001b[39m\u001b[34m(coordinates, image, caption, width, proto_imgs, clamp, channels, output_format)\u001b[39m\n\u001b[32m    438\u001b[39m \u001b[38;5;66;03m# We use the index of the image in the input image list to identify this image inside\u001b[39;00m\n\u001b[32m    439\u001b[39m \u001b[38;5;66;03m# MediaFileManager. For this, we just add the index to the image's \"coordinates\".\u001b[39;00m\n\u001b[32m    440\u001b[39m image_id = \u001b[33m\"\u001b[39m\u001b[38;5;132;01m%s\u001b[39;00m\u001b[33m-\u001b[39m\u001b[38;5;132;01m%i\u001b[39;00m\u001b[33m\"\u001b[39m % (coordinates, coord_suffix)\n\u001b[32m--> \u001b[39m\u001b[32m442\u001b[39m proto_img.url = \u001b[43mimage_to_url\u001b[49m\u001b[43m(\u001b[49m\n\u001b[32m    443\u001b[39m \u001b[43m    \u001b[49m\u001b[43mimage\u001b[49m\u001b[43m,\u001b[49m\u001b[43m \u001b[49m\u001b[43mwidth\u001b[49m\u001b[43m,\u001b[49m\u001b[43m \u001b[49m\u001b[43mclamp\u001b[49m\u001b[43m,\u001b[49m\u001b[43m \u001b[49m\u001b[43mchannels\u001b[49m\u001b[43m,\u001b[49m\u001b[43m \u001b[49m\u001b[43moutput_format\u001b[49m\u001b[43m,\u001b[49m\u001b[43m \u001b[49m\u001b[43mimage_id\u001b[49m\n\u001b[32m    444\u001b[39m \u001b[43m\u001b[49m\u001b[43m)\u001b[49m\n",
      "\u001b[36mFile \u001b[39m\u001b[32m~\\AppData\\Roaming\\Python\\Python312\\site-packages\\streamlit\\elements\\lib\\image_utils.py:298\u001b[39m, in \u001b[36mimage_to_url\u001b[39m\u001b[34m(image, width, clamp, channels, output_format, image_id)\u001b[39m\n\u001b[32m    295\u001b[39m \u001b[38;5;28;01mif\u001b[39;00m mimetype \u001b[38;5;129;01mis\u001b[39;00m \u001b[38;5;28;01mNone\u001b[39;00m:\n\u001b[32m    296\u001b[39m     mimetype = \u001b[33m\"\u001b[39m\u001b[33mapplication/octet-stream\u001b[39m\u001b[33m\"\u001b[39m\n\u001b[32m--> \u001b[39m\u001b[32m298\u001b[39m url = \u001b[43mruntime\u001b[49m\u001b[43m.\u001b[49m\u001b[43mget_instance\u001b[49m\u001b[43m(\u001b[49m\u001b[43m)\u001b[49m.media_file_mgr.add(image, mimetype, image_id)\n\u001b[32m    299\u001b[39m caching.save_media_data(image, mimetype, image_id)\n\u001b[32m    300\u001b[39m \u001b[38;5;28;01mreturn\u001b[39;00m url\n",
      "\u001b[36mFile \u001b[39m\u001b[32m~\\AppData\\Roaming\\Python\\Python312\\site-packages\\streamlit\\runtime\\__init__.py:28\u001b[39m, in \u001b[36mget_instance\u001b[39m\u001b[34m()\u001b[39m\n\u001b[32m     24\u001b[39m \u001b[38;5;28;01mdef\u001b[39;00m\u001b[38;5;250m \u001b[39m\u001b[34mget_instance\u001b[39m() -> Runtime:\n\u001b[32m     25\u001b[39m \u001b[38;5;250m    \u001b[39m\u001b[33;03m\"\"\"Return the singleton Runtime instance. Raise an Error if the\u001b[39;00m\n\u001b[32m     26\u001b[39m \u001b[33;03m    Runtime hasn't been created yet.\u001b[39;00m\n\u001b[32m     27\u001b[39m \u001b[33;03m    \"\"\"\u001b[39;00m\n\u001b[32m---> \u001b[39m\u001b[32m28\u001b[39m     \u001b[38;5;28;01mreturn\u001b[39;00m \u001b[43mRuntime\u001b[49m\u001b[43m.\u001b[49m\u001b[43minstance\u001b[49m\u001b[43m(\u001b[49m\u001b[43m)\u001b[49m\n",
      "\u001b[36mFile \u001b[39m\u001b[32m~\\AppData\\Roaming\\Python\\Python312\\site-packages\\streamlit\\runtime\\runtime.py:156\u001b[39m, in \u001b[36mRuntime.instance\u001b[39m\u001b[34m(cls)\u001b[39m\n\u001b[32m    152\u001b[39m \u001b[38;5;250m\u001b[39m\u001b[33;03m\"\"\"Return the singleton Runtime instance. Raise an Error if the\u001b[39;00m\n\u001b[32m    153\u001b[39m \u001b[33;03mRuntime hasn't been created yet.\u001b[39;00m\n\u001b[32m    154\u001b[39m \u001b[33;03m\"\"\"\u001b[39;00m\n\u001b[32m    155\u001b[39m \u001b[38;5;28;01mif\u001b[39;00m \u001b[38;5;28mcls\u001b[39m._instance \u001b[38;5;129;01mis\u001b[39;00m \u001b[38;5;28;01mNone\u001b[39;00m:\n\u001b[32m--> \u001b[39m\u001b[32m156\u001b[39m     \u001b[38;5;28;01mraise\u001b[39;00m \u001b[38;5;167;01mRuntimeError\u001b[39;00m(\u001b[33m\"\u001b[39m\u001b[33mRuntime hasn\u001b[39m\u001b[33m'\u001b[39m\u001b[33mt been created!\u001b[39m\u001b[33m\"\u001b[39m)\n\u001b[32m    157\u001b[39m \u001b[38;5;28;01mreturn\u001b[39;00m \u001b[38;5;28mcls\u001b[39m._instance\n",
      "\u001b[31mRuntimeError\u001b[39m: Runtime hasn't been created!"
     ]
    }
   ],
   "source": [
    "import os\n",
    "import streamlit as st\n",
    "full_path = os.path.join(\"images\", \"chicken_pox\", \"chicken_pox_1.jpeg\")\n",
    "st.image(full_path, width=150)\n"
   ]
  },
  {
   "cell_type": "code",
   "execution_count": null,
   "id": "55e726ea",
   "metadata": {},
   "outputs": [],
   "source": []
  }
 ],
 "metadata": {
  "kernelspec": {
   "display_name": "Python 3",
   "language": "python",
   "name": "python3"
  },
  "language_info": {
   "codemirror_mode": {
    "name": "ipython",
    "version": 3
   },
   "file_extension": ".py",
   "mimetype": "text/x-python",
   "name": "python",
   "nbconvert_exporter": "python",
   "pygments_lexer": "ipython3",
   "version": "3.12.10"
  }
 },
 "nbformat": 4,
 "nbformat_minor": 5
}
